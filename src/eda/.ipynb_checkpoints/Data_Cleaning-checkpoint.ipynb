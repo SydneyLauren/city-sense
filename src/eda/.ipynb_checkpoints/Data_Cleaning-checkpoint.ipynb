{
 "cells": [
  {
   "cell_type": "code",
   "execution_count": 1,
   "metadata": {
    "collapsed": true
   },
   "outputs": [],
   "source": [
    "import json\n",
    "import pandas as pd\n",
    "from collections import defaultdict\n",
    "from collections import Counter\n",
    "import numpy as np\n",
    "from sklearn.feature_extraction.text import TfidfVectorizer, CountVectorizer, TfidfTransformer\n",
    "from nltk.corpus import wordnet as wn\n",
    "from nltk.tag import pos_tag\n",
    "import networkx as nx\n",
    "import nltk\n",
    "# from numpy.random import rand, RandomState\n",
    "from nltk.corpus import stopwords\n",
    "from sklearn.cluster import KMeans\n",
    "import string\n",
    "# from nltk.corpus import sentiwordnet as swn\n",
    "from nltk.tokenize import word_tokenize\n",
    "from sklearn.metrics.pairwise import cosine_similarity\n",
    "from mpl_toolkits.basemap import Basemap\n",
    "# import matplotlib\n",
    "# import geopy\n",
    "from sklearn.metrics.pairwise import linear_kernel\n",
    "from geopy.geocoders import Nominatim\n",
    "from nltk.stem.wordnet import WordNetLemmatizer\n",
    "from nltk.stem.porter import PorterStemmer\n",
    "from nltk.stem.snowball import SnowballStemmer\n",
    "import itertools\n",
    "import numpy.linalg as LA\n",
    "# from sklearn.decomposition import PCA\n",
    "# from sklearn.pipeline import Pipeline\n",
    "import matplotlib.pyplot as plt\n",
    "import matplotlib.animation as animation\n",
    "%matplotlib inline"
   ]
  },
  {
   "cell_type": "code",
   "execution_count": 2,
   "metadata": {
    "collapsed": true
   },
   "outputs": [],
   "source": [
    "def json_to_dict(filename):\n",
    "    '''\n",
    "    INPUT: name of json file\n",
    "    OUTPUT: dictionary with city keys and description values\n",
    "    take json file and return dictionary\n",
    "    '''\n",
    "    di = {}\n",
    "    english = []\n",
    "    with open('wordlist.txt') as f:\n",
    "        for line in f:\n",
    "            english.append(line.strip('\\r\\n'))\n",
    "            english.append(' ')\n",
    "    english = set(english)\n",
    "\n",
    "    with open(filename) as data_file:\n",
    "        data = json.load(data_file)\n",
    "        for item in data:\n",
    "            for key in item.keys():\n",
    "                unique_text = set(item[key])\n",
    "                # remove punctuation, make everything lower case\n",
    "                txt = ''.join(ch.lower() for ch in unique_text if ch not in set(string.punctuation))\n",
    "                # remove numbers\n",
    "                txt = ''.join(c for c in txt if c.isdigit() is False)\n",
    "                # remove the city and country name from its own description\n",
    "                keyparts = key.split(',')\n",
    "                txt = ' '.join(c for c in txt.split() if c.lower() != keyparts[0].lower() and c.lower() != keyparts[-1].lower())\n",
    "                # remove non-english words\n",
    "                txt = ' '.join(c for c in txt.split() if c in english)\n",
    "                # populate dictionary\n",
    "                di[key.strip().strip('\\n').encode('ascii', 'ignore')] = txt\n",
    "    return di"
   ]
  },
  {
   "cell_type": "code",
   "execution_count": 3,
   "metadata": {
    "collapsed": true
   },
   "outputs": [],
   "source": [
    "# def build_synonym_list(word_list):\n",
    "#     '''\n",
    "#     INPUT: list of words\n",
    "#     OUTPUT: list containing words and all of their synonyms\n",
    "#     take a list of words and return a list containin all synonyms of those words\n",
    "#     '''\n",
    "#     all_synonyms = []\n",
    "#     for word in word_list:\n",
    "#         synonyms = wn.synsets(word.lower())\n",
    "#         for s in synonyms:\n",
    "#             synlist = [l.name() for l in s.lemmas()]\n",
    "#         synlist.append(word.lower())\n",
    "#         all_synonyms.extend([wn.lemmatize(w) for w in synlist])\n",
    "#     return all_synonyms"
   ]
  },
  {
   "cell_type": "markdown",
   "metadata": {},
   "source": [
    "### Import the data and prepare for tfidf"
   ]
  },
  {
   "cell_type": "code",
   "execution_count": 4,
   "metadata": {
    "collapsed": false
   },
   "outputs": [],
   "source": [
    "# rs_dict = json_to_dict('../../data/ricksteves_articles_blogs_R01.json')\n",
    "# ta_dict = json_to_dict('../../data/europe_city_reviews2.json')\n",
    "rs_dict = json_to_dict('../scraping/ricksteves_articles_blogs_R02.json')\n",
    "ta_dict = json_to_dict('../scraping/ta_combined4.json')\n",
    "\n",
    "empty_count = 0\n",
    "for k in ta_dict:\n",
    "    if len(ta_dict[k]) < 100:\n",
    "        empty_count += 1\n",
    "# print empty_count\n",
    "\n",
    "key_list = set(rs_dict.keys() + ta_dict.keys())\n",
    "europe_dict = dict()\n",
    "for key in key_list:\n",
    "    europe_dict[key] = str(rs_dict.get(key)) + str(ta_dict.get(key))\n",
    "    \n",
    "# remove cities which contain little or no text\n",
    "europe_dict = {key: value for key, value in europe_dict.items() if len(value) > 200}\n",
    "for k in europe_dict:\n",
    "    if len(europe_dict[k]) < 100:\n",
    "        print '\\n', k\n",
    "        print europe_dict[k]\n",
    "\n",
    "# Convert dictionary into dataframe\n",
    "cities_df = pd.DataFrame.from_dict(europe_dict, orient='index', dtype=None)\n",
    "cities_df.columns = ['description']\n",
    "\n",
    "# Extract cities and their descripitions from dataframe\n",
    "# doc_bodies = cities_df['description']\n",
    "doc_bodies = cities_df['description'].values\n",
    "tokenized_corpus = [word_tokenize(content.lower()) for content in doc_bodies]\n",
    "cities = cities_df.index.values"
   ]
  },
  {
   "cell_type": "markdown",
   "metadata": {},
   "source": [
    "### Total count and document frequency for nouns, verbs, adverbs, and adjectives"
   ]
  },
  {
   "cell_type": "code",
   "execution_count": 5,
   "metadata": {
    "collapsed": false
   },
   "outputs": [],
   "source": [
    "# read each word, assign pos_tag. If pos tag is noun, append dictionary\n",
    "noun_dict = defaultdict(list)\n",
    "verb_dict = defaultdict(list)\n",
    "adj_dict = defaultdict(list)\n",
    "adv_dict = defaultdict(list)\n",
    "other_dict = defaultdict(list)\n",
    "\n",
    "for i, doc in enumerate(tokenized_corpus):\n",
    "    for word in doc:\n",
    "        tag = pos_tag([word])[0][1]\n",
    "        if 'NN' in tag:\n",
    "            noun_dict[word].append(i)\n",
    "        if 'JJ' in tag:\n",
    "            adj_dict[word].append(i)\n",
    "        if 'VB' in tag:\n",
    "            verb_dict[word].append(i)\n",
    "        if 'RB' in tag:\n",
    "            adv_dict[word].append(i)\n",
    "        if tag == 'EX' or tag == 'IN' or tag == 'FW' or tag == 'PDT' or tag == 'CD' or tag == 'MD':\n",
    "            other_dict[word].append(i)\n",
    "            "
   ]
  },
  {
   "cell_type": "markdown",
   "metadata": {},
   "source": [
    "### Kmeans Clustering"
   ]
  },
  {
   "cell_type": "code",
   "execution_count": 6,
   "metadata": {
    "collapsed": false
   },
   "outputs": [],
   "source": [
    "def kmeans_clustering(doc_bodies, n=12, stpwords=[]):\n",
    "    '''\n",
    "    INPUT: corpus, number of clusters, custom stopwords\n",
    "    OUTPUT: kmeans model and features\n",
    "    take a document corpus, number of cluster, and custom stopwords and kmeans model to tfidf matrix\n",
    "    '''\n",
    "    vectorizer = TfidfVectorizer(stop_words=stopwords.words('english') + stpwords)\n",
    "    X = vectorizer.fit_transform(doc_bodies)\n",
    "    features = vectorizer.get_feature_names()\n",
    "    kmeans = KMeans(n_clusters=n)\n",
    "    kmeans.fit(X)\n",
    "\n",
    "    top_centroids = kmeans.cluster_centers_.argsort()[:, -1:-8:-1]\n",
    "    print \"top features for each cluster:\"\n",
    "    for num, centroid in enumerate(top_centroids):\n",
    "        print \"%d: %s\" % (num, \", \".join(features[i] for i in centroid))\n",
    "    return kmeans, features"
   ]
  },
  {
   "cell_type": "code",
   "execution_count": 7,
   "metadata": {
    "collapsed": false,
    "scrolled": true
   },
   "outputs": [],
   "source": [
    "def get_cluster_center(word_list):\n",
    "    wordnet = WordNetLemmatizer()\n",
    "    word_dict = dict()  # record synonyms and lemmas for each word in a dictionary\n",
    "    for word in word_list:\n",
    "        subset = [word]\n",
    "        for s in wn.synsets(word.lower()):\n",
    "            synlist = [l.name() for l in s.lemmas()]\n",
    "            subset.extend([wordnet.lemmatize(w) for w in synlist])\n",
    "        word_dict[word] = set(subset)\n",
    "    syns = set([item for sublist in word_dict.values() for item in sublist])\n",
    "\n",
    "    edge_list = []\n",
    "    for syn in syns: \n",
    "        keys_lst = [key for key, value in word_dict.items() if syn in value]\n",
    "        if len(keys_lst) > 1:\n",
    "            edge_list.extend(list(itertools.combinations(keys_lst, 2)))\n",
    "    G=nx.Graph()\n",
    "    G.add_edges_from(edge_list)\n",
    "\n",
    "    max_deg = Counter(nx.degree_centrality(G)).most_common(1)[0][0]\n",
    "    nbrs = G.neighbors(max_deg)\n",
    "    return max_deg"
   ]
  },
  {
   "cell_type": "code",
   "execution_count": 8,
   "metadata": {
    "collapsed": true
   },
   "outputs": [],
   "source": [
    "def get_word_stats(noun_dict, verb_dict, adj_dict, adv_dict, other_dict, word):\n",
    "    parts_of_speech = ['noun', 'verb', 'adjective', 'adverb', 'other']\n",
    "    \n",
    "    noun_stats = noun_dict.get(word)\n",
    "    verb_stats = verb_dict.get(word)\n",
    "    adj_stats = adj_dict.get(word)\n",
    "    adv_stats = adv_dict.get(word)\n",
    "    other_stats = other_dict.get(word)\n",
    "    \n",
    "    speech_parts = np.array([noun_stats, verb_stats, adj_stats, adv_stats, other_stats])\n",
    "    \n",
    "    word_pos = np.argmax(speech_parts)\n",
    "    \n",
    "    return parts_of_speech[word_pos], word_pos, len(speech_parts[word_pos]), len(set(speech_parts[word_pos]))"
   ]
  },
  {
   "cell_type": "code",
   "execution_count": 9,
   "metadata": {
    "collapsed": true
   },
   "outputs": [],
   "source": [
    "def get_stopwords_count(speech_dicts, word_count, word_pos, greater_than=True):\n",
    "    vals = speech_dicts[word_pos].values()\n",
    "    wds = np.array(speech_dicts[word_pos].keys())\n",
    "    word_counts = np.array([len(val) for val in vals])\n",
    "    if greater_than:\n",
    "        return wds[word_counts >= word_count]\n",
    "    else:\n",
    "        return wds[word_counts <= word_count]"
   ]
  },
  {
   "cell_type": "code",
   "execution_count": 10,
   "metadata": {
    "collapsed": true
   },
   "outputs": [],
   "source": [
    "def get_stopwords(speech_dicts, doc_frequency, word_pos, greater_than=True):\n",
    "    vals = speech_dicts[word_pos].values()\n",
    "    wds = np.array(speech_dicts[word_pos].keys())\n",
    "    doc_freqs = np.array([len(set(val)) for val in vals])\n",
    "    if greater_than:\n",
    "        return wds[doc_freqs >= doc_frequency]\n",
    "    else:\n",
    "        return wds[doc_freqs <= doc_frequency]"
   ]
  },
  {
   "cell_type": "code",
   "execution_count": 11,
   "metadata": {
    "collapsed": true
   },
   "outputs": [],
   "source": [
    "def calculate_cosine_sim(doc_bodies, check_words, stops):\n",
    "    vectorizer = TfidfVectorizer(stop_words=stopwords.words('english') + stops)\n",
    "    \n",
    "    X = vectorizer.fit_transform(np.append(doc_bodies, check_words))\n",
    "    cosine_similarities = linear_kernel(X, X)\n",
    "\n",
    "    return cosine_similarities[-1, :-1]"
   ]
  },
  {
   "cell_type": "code",
   "execution_count": 12,
   "metadata": {
    "collapsed": true
   },
   "outputs": [],
   "source": [
    "def plot_personality_map(m, cosine_similarities, xpts, ypts, citylist):\n",
    "    fig = plt.figure(figsize=(19, 9))\n",
    "    cosine_similarities = np.array(cosine_similarities)\n",
    "    sz = 20. * cosine_similarities / max(cosine_similarities) + 6\n",
    "    alp = (cosine_similarities / max(cosine_similarities))/1.5 + 0.3\n",
    "    fs = 15 * cosine_similarities / max(cosine_similarities)\n",
    "\n",
    "    for i in xrange(len(xpts)):\n",
    "        plt.plot(xpts[i], ypts[i], '.', markersize=sz[i], color='#81D8D0', alpha=alp[i])\n",
    "        plt.text(xpts[i], ypts[i], citylist[i], fontsize=int(fs[i]), alpha=alp[i], color=[1,1,1])\n",
    "    m.drawcoastlines(linewidth=0.2)\n",
    "    m.drawcountries(linewidth=0.2)\n",
    "    m.drawmapboundary(fill_color='#2B3856')\n",
    "    # fill continents, set lake color same as ocean color.\n",
    "    m.fillcontinents(color='#786D5F',lake_color='#2B3856')\n",
    "\n",
    "    plt.savefig('city_sample.jpg', bbox_inches='tight')\n",
    "    plt.show()"
   ]
  },
  {
   "cell_type": "code",
   "execution_count": 13,
   "metadata": {
    "collapsed": true
   },
   "outputs": [],
   "source": [
    "def plot_word_frequencies(tokenized_corpus, title):\n",
    "    '''\n",
    "    INPUT: tokenized corpus, plot title\n",
    "    OUTPUT: vocabulary list, word ids, word counts\n",
    "    take a tokenized corpus, calculate the frequency of each word, and plot\n",
    "    '''\n",
    "    '''Build a vocabulary of every unique word in the corpus'''\n",
    "    vocab_set = set()\n",
    "    [[vocab_set.add(token) for token in tokens] for tokens in tokenized_corpus]\n",
    "    vocab = list(vocab_set)\n",
    "    \n",
    "    '''Make a dictionary relating word to id number'''\n",
    "    vocab_dict = {word: i for i, word in enumerate(vocab)}\n",
    "    \n",
    "    '''Build word count matrix'''\n",
    "    word_ids = np.zeros(len(vocab))\n",
    "    word_counts = np.zeros((len(tokenized_corpus), len(vocab)))\n",
    "    for doc_id, words in enumerate(tokenized_corpus):\n",
    "        for word in words:\n",
    "            word_id = vocab_dict[word]\n",
    "            word_ids[word_id] = word_id\n",
    "            word_counts[doc_id][word_id] += 1\n",
    "    \n",
    "    '''Count the total number of times each word occurs'''\n",
    "    values = np.sum(word_counts, axis=0)\n",
    "    \n",
    "    '''Plot the results'''\n",
    "    plt.bar(range(0,len(values)), sorted(values)[::-1], color='green', alpha=0.4)\n",
    "\n",
    "    plt.xlabel('Word Index')\n",
    "    plt.ylabel('Frequency')\n",
    "    plt.title('Word Frequency Chart - {}'.format(title))\n",
    "#     return np.array(values), vocab, word_ids"
   ]
  },
  {
   "cell_type": "code",
   "execution_count": 14,
   "metadata": {
    "collapsed": true
   },
   "outputs": [],
   "source": [
    "def remove_stopwords(corpus, words_to_add=[]):\n",
    "    '''\n",
    "    INPUT: tokenized document corpus, list of words to remove\n",
    "    OUTPUT: document corpus with stop words removed\n",
    "    take a list of words to add to stoplist and remove from corpus\n",
    "    '''\n",
    "    '''Use the English language stopwords provided by nltk'''\n",
    "    stops = stopwords.words('english')\n",
    "    \n",
    "    '''Add user-requested stopwords'''\n",
    "    stops.extend(words_to_add)\n",
    "    \n",
    "    '''Remove stop words from corpus and return'''\n",
    "    #tokenized = [word_tokenize(content.lower()) for content in corpus]\n",
    "    stops = set(stops)\n",
    "    docs = [[word for word in words if word not in stops]\n",
    "        for words in corpus]\n",
    "    \n",
    "    return docs"
   ]
  },
  {
   "cell_type": "code",
   "execution_count": 15,
   "metadata": {
    "collapsed": true
   },
   "outputs": [],
   "source": [
    "def limit_speech_part(corpus, pts_of_speech = ['ADJ', 'NOUN', 'ADV', 'VERB']):\n",
    "    '''\n",
    "    INPUT: tokenized corpus, list of parts of speech to keep\n",
    "    OUTPUT: list of words to remove\n",
    "    take a tokenized corpus and return a list of words to remove from that are not in the part of speech list\n",
    "    '''\n",
    "    remove_words = []\n",
    "    for words in corpus:\n",
    "        for word in words:\n",
    "            check = 0\n",
    "            for ps in pts_of_speech:\n",
    "                check += len(wn.synsets(word, pos=getattr(wn, ps)))\n",
    "            if check == 0:\n",
    "                remove_words.append(word)\n",
    "    return remove_words"
   ]
  },
  {
   "cell_type": "code",
   "execution_count": 16,
   "metadata": {
    "collapsed": false
   },
   "outputs": [
    {
     "data": {
      "image/png": "[encoded data removed]",
      "text/plain": [
       "<matplotlib.figure.Figure at 0x11bd87650>"
      ]
     },
     "metadata": {},
     "output_type": "display_data"
    }
   ],
   "source": [
    "tokenized_corpus_0 = remove_stopwords(tokenized_corpus)\n",
    "plot_word_frequencies(tokenized_corpus_0,'sample')"
   ]
  },
  {
   "cell_type": "code",
   "execution_count": 17,
   "metadata": {
    "collapsed": false
   },
   "outputs": [
    {
     "data": {
      "image/png": "[encoded data removed]",
      "text/plain": [
       "<matplotlib.figure.Figure at 0x152597850>"
      ]
     },
     "metadata": {},
     "output_type": "display_data"
    }
   ],
   "source": [
    "non_nouns = limit_speech_part(tokenized_corpus_0, pts_of_speech = ['NOUN'])\n",
    "tokenized_corpus_nouns = remove_stopwords(tokenized_corpus_0, non_nouns)\n",
    "plot_word_frequencies(tokenized_corpus_nouns, 'nouns')"
   ]
  },
  {
   "cell_type": "code",
   "execution_count": 18,
   "metadata": {
    "collapsed": false
   },
   "outputs": [
    {
     "data": {
      "image/png": "[encoded data removed]",
      "text/plain": [
       "<matplotlib.figure.Figure at 0x14fe457d0>"
      ]
     },
     "metadata": {},
     "output_type": "display_data"
    }
   ],
   "source": [
    "non_nouns = limit_speech_part(tokenized_corpus_0, pts_of_speech = ['NOUN'])\n",
    "tokenized_corpus_nouns = remove_stopwords(tokenized_corpus_0, non_nouns)\n",
    "plot_word_frequencies(tokenized_corpus_nouns, 'nouns')"
   ]
  },
  {
   "cell_type": "code",
   "execution_count": 20,
   "metadata": {
    "collapsed": false
   },
   "outputs": [
    {
     "ename": "NameError",
     "evalue": "name 'vs' is not defined",
     "output_type": "error",
     "traceback": [
      "\u001b[0;31m---------------------------------------------------------------------------\u001b[0m",
      "\u001b[0;31mNameError\u001b[0m                                 Traceback (most recent call last)",
      "\u001b[0;32m<ipython-input-20-8773d2393256>\u001b[0m in \u001b[0;36m<module>\u001b[0;34m()\u001b[0m\n\u001b[1;32m     27\u001b[0m \u001b[0mfig\u001b[0m\u001b[0;34m,\u001b[0m \u001b[0max\u001b[0m \u001b[0;34m=\u001b[0m \u001b[0mplt\u001b[0m\u001b[0;34m.\u001b[0m\u001b[0msubplots\u001b[0m\u001b[0;34m(\u001b[0m\u001b[0mfigsize\u001b[0m\u001b[0;34m=\u001b[0m\u001b[0;34m(\u001b[0m\u001b[0;36m10\u001b[0m\u001b[0;34m,\u001b[0m\u001b[0;36m4\u001b[0m\u001b[0;34m)\u001b[0m\u001b[0;34m)\u001b[0m\u001b[0;34m\u001b[0m\u001b[0m\n\u001b[1;32m     28\u001b[0m \u001b[0mtop_indices\u001b[0m \u001b[0;34m=\u001b[0m \u001b[0mnp\u001b[0m\u001b[0;34m.\u001b[0m\u001b[0marray\u001b[0m\u001b[0;34m(\u001b[0m\u001b[0mnp\u001b[0m\u001b[0;34m.\u001b[0m\u001b[0margsort\u001b[0m\u001b[0;34m(\u001b[0m\u001b[0mvals\u001b[0m\u001b[0;34m)\u001b[0m\u001b[0;34m[\u001b[0m\u001b[0;34m:\u001b[0m\u001b[0;34m:\u001b[0m\u001b[0;34m-\u001b[0m\u001b[0;36m1\u001b[0m\u001b[0;34m]\u001b[0m\u001b[0;34m[\u001b[0m\u001b[0;34m:\u001b[0m\u001b[0;36m8\u001b[0m\u001b[0;34m]\u001b[0m\u001b[0;34m)\u001b[0m\u001b[0;34m\u001b[0m\u001b[0m\n\u001b[0;32m---> 29\u001b[0;31m \u001b[0mplt\u001b[0m\u001b[0;34m.\u001b[0m\u001b[0mbar\u001b[0m\u001b[0;34m(\u001b[0m\u001b[0mrange\u001b[0m\u001b[0;34m(\u001b[0m\u001b[0;36m0\u001b[0m\u001b[0;34m,\u001b[0m\u001b[0;36m10\u001b[0m\u001b[0;34m)\u001b[0m\u001b[0;34m,\u001b[0m \u001b[0mvs\u001b[0m\u001b[0;34m[\u001b[0m\u001b[0msort_inds\u001b[0m\u001b[0;34m]\u001b[0m\u001b[0;34m[\u001b[0m\u001b[0;34m:\u001b[0m\u001b[0;36m10\u001b[0m\u001b[0;34m]\u001b[0m\u001b[0;34m,\u001b[0m \u001b[0mcolor\u001b[0m\u001b[0;34m=\u001b[0m\u001b[0;34m'#317f6c'\u001b[0m\u001b[0;34m,\u001b[0m \u001b[0malpha\u001b[0m\u001b[0;34m=\u001b[0m\u001b[0;36m0.9\u001b[0m\u001b[0;34m)\u001b[0m\u001b[0;34m\u001b[0m\u001b[0m\n\u001b[0m\u001b[1;32m     30\u001b[0m \u001b[0max\u001b[0m\u001b[0;34m.\u001b[0m\u001b[0mset_xticks\u001b[0m\u001b[0;34m(\u001b[0m\u001b[0mind\u001b[0m \u001b[0;34m+\u001b[0m \u001b[0mwidth\u001b[0m\u001b[0;34m)\u001b[0m\u001b[0;34m\u001b[0m\u001b[0m\n\u001b[1;32m     31\u001b[0m \u001b[0max\u001b[0m\u001b[0;34m.\u001b[0m\u001b[0mset_xticklabels\u001b[0m\u001b[0;34m(\u001b[0m\u001b[0mlabel\u001b[0m\u001b[0;34m,\u001b[0m \u001b[0mrotation\u001b[0m\u001b[0;34m=\u001b[0m\u001b[0;36m50\u001b[0m\u001b[0;34m,\u001b[0m \u001b[0mha\u001b[0m\u001b[0;34m=\u001b[0m\u001b[0;34m'right'\u001b[0m\u001b[0;34m)\u001b[0m\u001b[0;34m\u001b[0m\u001b[0m\n",
      "\u001b[0;31mNameError\u001b[0m: name 'vs' is not defined"
     ]
    },
    {
     "data": {
      "image/png": "[encoded data removed]",
      "text/plain": [
       "<matplotlib.figure.Figure at 0x13507f290>"
      ]
     },
     "metadata": {},
     "output_type": "display_data"
    }
   ],
   "source": [
    "tagged = []\n",
    "for doc in tokenized_corpus_0:\n",
    "    tagged.extend(pos_tag(doc))\n",
    "counts = Counter(tag for word,tag in tagged)\n",
    "\n",
    "pos_keys = counts.keys()\n",
    "\n",
    "general_dict = defaultdict(int)\n",
    "for k in pos_keys:    \n",
    "    general_dict[k[0:2]] += counts[k]\n",
    "    \n",
    "vals = np.array(general_dict.values())\n",
    "sort_inds = np.array(np.argsort(vals)[::-1])\n",
    "ks = np.array(general_dict.keys())\n",
    "\n",
    "ind = np.arange(10)  # the x locations for the groups\n",
    "width = 0.35       # the width of the bars\n",
    "\n",
    "pos_dict = {'CC': 'conjunction', 'CD': 'cardinal numeral', 'DT': 'determiner', 'EX': 'existential there', 'FW': 'foreign word',\n",
    "'IN': 'preposition or conjunction', 'JJ': 'adjective', 'LS': 'list item marker', 'MD': 'modal auxiliary', 'NN': 'noun',\n",
    "'PD': 'pre-determiner', 'PO': 'genitive marker', 'PR': 'pronoun', 'RB': 'adverb', 'RP': 'particle', 'SY': 'symbol',\n",
    "'TO': '\"to\" as preposition or infinitive marker', 'UH': 'interjection', 'VB': 'verb',  'WD': 'WH-determiner',\n",
    "'WP': 'WH-pronoun', 'WR': 'Wh-adverb'}\n",
    "\n",
    "label = [pos_dict[p] for p in ks[sort_inds][:10]]\n",
    "\n",
    "fig, ax = plt.subplots(figsize=(10,4))\n",
    "top_indices = np.array(np.argsort(vals)[::-1][:8])\n",
    "plt.bar(range(0,10), vals[sort_inds][:10], color='#317f6c', alpha=0.9)\n",
    "ax.set_xticks(ind + width)\n",
    "ax.set_xticklabels(label, rotation=50, ha='right')\n",
    "plt.show()"
   ]
  },
  {
   "cell_type": "code",
   "execution_count": 169,
   "metadata": {
    "collapsed": false
   },
   "outputs": [
    {
     "name": "stdout",
     "output_type": "stream",
     "text": [
      "False\n",
      "['also', 'back', 'even', 'first', 'here', 'how', 'just', 'lovely', 'more', 'not', 'only', 'quite', 'really', 'so', 'then', 'there', 'up', 'very', 'well', 'when', 'where']\n"
     ]
    }
   ],
   "source": [
    "df_g = sorted(get_stopwords(np.array([noun_dict, verb_dict, adj_dict, adv_dict, other_dict]), 192, 3, greater_than=True))\n",
    "c_g = sorted(get_stopwords_count(np.array([noun_dict, verb_dict, adj_dict, adv_dict, other_dict]), 2258, 3, greater_than=True))\n",
    "\n",
    "df_l = sorted(get_stopwords(np.array([noun_dict, verb_dict, adj_dict, adv_dict, other_dict]), 0, 3, greater_than=False))\n",
    "c_l = sorted(get_stopwords_count(np.array([noun_dict, verb_dict, adj_dict, adv_dict, other_dict]), 0, 3, greater_than=False))\n",
    "\n",
    "print 'friendly' in c_g\n",
    "print c_g"
   ]
  },
  {
   "cell_type": "code",
   "execution_count": null,
   "metadata": {
    "collapsed": true
   },
   "outputs": [],
   "source": []
  },
  {
   "cell_type": "code",
   "execution_count": null,
   "metadata": {
    "collapsed": false
   },
   "outputs": [],
   "source": [
    "stp_wds = []\n",
    "# nouns\n",
    "stp_wds.extend(get_stopwords(np.array([noun_dict, verb_dict, adj_dict, adv_dict, other_dict]), 181, 0, greater_than=True))\n",
    "stp_wds.extend(get_stopwords_count(np.array([noun_dict, verb_dict, adj_dict, adv_dict, other_dict]), 4485, 0, greater_than=True))\n",
    "stp_wds.extend(get_stopwords(np.array([noun_dict, verb_dict, adj_dict, adv_dict, other_dict]), 1, 0, greater_than=False))\n",
    "stp_wds.extend(get_stopwords_count(np.array([noun_dict, verb_dict, adj_dict, adv_dict, other_dict]), 0, 0, greater_than=False))\n",
    "\n",
    "# verbs\n",
    "stp_wds.extend(get_stopwords(np.array([noun_dict, verb_dict, adj_dict, adv_dict, other_dict]), 194, 1, greater_than=True))\n",
    "stp_wds.extend(get_stopwords_count(np.array([noun_dict, verb_dict, adj_dict, adv_dict, other_dict]), 4968, 1, greater_than=True))\n",
    "stp_wds.extend(get_stopwords(np.array([noun_dict, verb_dict, adj_dict, adv_dict, other_dict]), 0, 1, greater_than=False))\n",
    "stp_wds.extend(get_stopwords_count(np.array([noun_dict, verb_dict, adj_dict, adv_dict, other_dict]), 0, 1, greater_than=False))\n",
    "\n",
    "# adjectives\n",
    "stp_wds.extend(get_stopwords(np.array([noun_dict, verb_dict, adj_dict, adv_dict, other_dict]), 155, 2, greater_than=True))\n",
    "stp_wds.extend(get_stopwords_count(np.array([noun_dict, verb_dict, adj_dict, adv_dict, other_dict]), 929, 2, greater_than=True))\n",
    "stp_wds.extend(get_stopwords(np.array([noun_dict, verb_dict, adj_dict, adv_dict, other_dict]), 0, 2, greater_than=False))\n",
    "stp_wds.extend(get_stopwords_count(np.array([noun_dict, verb_dict, adj_dict, adv_dict, other_dict]), 0, 2, greater_than=False))\n",
    "\n",
    "# adverbs\n",
    "stp_wds.extend(get_stopwords(np.array([noun_dict, verb_dict, adj_dict, adv_dict, other_dict]), 192, 3, greater_than=True))\n",
    "stp_wds.extend(get_stopwords_count(np.array([noun_dict, verb_dict, adj_dict, adv_dict, other_dict]), 2258, 3, greater_than=True))\n",
    "\n",
    "\n",
    "# Two letter words\n",
    "for lst in tokenized_corpus:\n",
    "    stp_wds.extend([word for word in lst if len(word) < 3])\n",
    "# nationality words\n",
    "# stp_wds.extend('''bulgarian,german,germany,portuguese,italy,italian,spain,alcazar,turkey,turkish,polish,poland,scottish,\n",
    "#                bulgaria,french,france,rick,iceland,croatia,spanish,irish,london,norwegian,danish,andersen,swedish,\n",
    "#                elbe,liechtenstein,rome,albanian,swiss,dutch,netherlands,ireland,estonian,latvian,slovenian,soviet,estonia,\n",
    "#                bulgaria,norway,czech,edinburgh,belgian,belgium,romania,bulgaria,finnish'''.split(','))"
   ]
  },
  {
   "cell_type": "code",
   "execution_count": null,
   "metadata": {
    "collapsed": false
   },
   "outputs": [],
   "source": []
  },
  {
   "cell_type": "code",
   "execution_count": null,
   "metadata": {
    "collapsed": false,
    "scrolled": true
   },
   "outputs": [],
   "source": [
    "# upper = 10\n",
    "# lower = 1\n",
    "# up = get_stopwords(np.array([noun_dict, verb_dict, adj_dict, adv_dict, other_dict]), 14, 0, greater_than=False)\n",
    "# low = get_stopwords(np.array([noun_dict, verb_dict, adj_dict, adv_dict, other_dict]), 13, 0, greater_than=True)\n",
    "# print len(up)\n",
    "# print len(low)\n",
    "# print len(set(sorted(up)) & set(sorted(low)))\n",
    "# m = sorted(list(set(up) & set(low)))\n",
    "# print 'cheerful' in m\n",
    "# print 'joyful' in m\n",
    "\n",
    "# print m"
   ]
  },
  {
   "cell_type": "markdown",
   "metadata": {},
   "source": [
    "### Try snowball and porter stemmers prior to tfidf"
   ]
  },
  {
   "cell_type": "code",
   "execution_count": null,
   "metadata": {
    "collapsed": false
   },
   "outputs": [],
   "source": [
    "snowball = SnowballStemmer('english')\n",
    "docs_snowball = [' '.join([snowball.stem(word) for word in words.split()]) for words in doc_bodies]"
   ]
  },
  {
   "cell_type": "code",
   "execution_count": null,
   "metadata": {
    "collapsed": false
   },
   "outputs": [],
   "source": [
    "dict_snowball = defaultdict(list)\n",
    "stem_stops = []\n",
    "# for each word, check if adjective. if adjective, add original word to dictionary list\n",
    "for words in doc_bodies:\n",
    "    for word in words.split():\n",
    "        if 'JJ' in pos_tag([word])[0][1]:\n",
    "            dict_snowball[snowball.stem(word)].append(word)\n",
    "        else:\n",
    "            stem_stops.append(snowball.stem(word))"
   ]
  },
  {
   "cell_type": "code",
   "execution_count": null,
   "metadata": {
    "collapsed": false
   },
   "outputs": [],
   "source": [
    "print len(dict_snowball.keys())"
   ]
  },
  {
   "cell_type": "code",
   "execution_count": null,
   "metadata": {
    "collapsed": true
   },
   "outputs": [],
   "source": []
  },
  {
   "cell_type": "code",
   "execution_count": null,
   "metadata": {
    "collapsed": false
   },
   "outputs": [],
   "source": [
    "# adj_dict = defaultdict(list)\n",
    "# adj_stem_dict = defaultdict(list)\n",
    "# for i, doc in enumerate(tokenized_corpus):\n",
    "#     for word in doc:\n",
    "#         tag = pos_tag([word])[0][1]\n",
    "#         if 'JJ' in tag:\n",
    "#             adj_dict[word].append(i)\n",
    "#             adj_stem_dict[snowball.stem(word)].append(i)"
   ]
  },
  {
   "cell_type": "code",
   "execution_count": null,
   "metadata": {
    "collapsed": false
   },
   "outputs": [],
   "source": [
    "s1 = sorted(get_stopwords(np.array([noun_dict, verb_dict, adj_dict, adv_dict, other_dict]), 78, 2, greater_than=True))\n",
    "s2 = sorted(get_stopwords_count(np.array([noun_dict, verb_dict, adj_dict, adv_dict, other_dict]), 377, 2, greater_than=True))\n",
    "\n",
    "s3 = sorted(get_stopwords(np.array([noun_dict, verb_dict, adj_dict, adv_dict, other_dict]), 0, 2, greater_than=False))\n",
    "s4 = sorted(get_stopwords_count(np.array([noun_dict, verb_dict, adj_dict, adv_dict, other_dict]), 1, 2, greater_than=False))\n",
    "\n",
    "# print 'comfortable' in s1\n",
    "# print 'cultural' in s1\n",
    "# print 'informative' in s1\n",
    "\n",
    "# print 'informative' in s2\n",
    "# print 'quiet' in s2\n",
    "# print 'private' in s2\n",
    "\n",
    "# print 'zealous' in s4"
   ]
  },
  {
   "cell_type": "code",
   "execution_count": null,
   "metadata": {
    "collapsed": false
   },
   "outputs": [],
   "source": [
    "stpwds = set(s1 + s2 + s3 + s4)\n",
    "print len(stpwds)\n",
    "stem_stops_add = [snowball.stem(word) for word in stpwds]"
   ]
  },
  {
   "cell_type": "markdown",
   "metadata": {},
   "source": [
    "### Generate stop words"
   ]
  },
  {
   "cell_type": "code",
   "execution_count": null,
   "metadata": {
    "collapsed": false,
    "scrolled": false
   },
   "outputs": [],
   "source": [
    "stopwds = []\n",
    "for words in docs_snowball:\n",
    "    for word in words.split():\n",
    "        if len(dict_snowball[word]) < 1:\n",
    "            stopwds.append(word)\n",
    "\n",
    "            pos_dicts = np.array([noun_dict, verb_dict, adj_dict, adv_dict, other_dict])           \n",
    "stopwds.extend([snowball.stem(word) for word in get_stopwords(pos_dicts, 78, 2, greater_than=True)])\n",
    "stopwds.extend([snowball.stem(word) for word in get_stopwords_count(pos_dicts, 925, 2, greater_than=True)])\n",
    "stopwds.extend([snowball.stem(word) for word in get_stopwords_count(pos_dicts, 1, 2, greater_than=False)])\n",
    "\n",
    "removelist = '''swedish,french,polish,swiss,italian,likely,finnish,german,norwegian,portuguese,american,spanish,\\\n",
    "scottish,russian,belgian,irish,actual,tuscan,arrive,vatican,affected,especial,british,nordic,flemish,venetian,\\\n",
    "soviet,golden,unknown,possible,detailed,useful,vertical,alphabetical,noteworthy,basic,valuable,slovenian,manageable,\\\n",
    "experienced,particular,numbered,essential,final,estuary,weekly,regular,flat,related,continuous,continued,mixed,\\\n",
    "estonian,advisable,characteristic,satisfied,black,vulcan,oldest,biggest,prepared,baltic,similar,georgian,\\\n",
    "portuguese,portugues,japanes,indonesian,numer,averag,facial,easier,older,parisian,andalusian,februari,anatolian,\\\n",
    "larger,northern,true,upper,tini,ethnograph,austrian,daili,bigger,highest,greatest,characteristic,eastern,victorian,\\\n",
    "low,high,pedestrian,heavi,higher,gothic,nuclear,temporari'''.split(',')\n",
    "stopwds.extend([snowball.stem(word) for word in removelist])\n",
    "print len(set(stopwds))"
   ]
  },
  {
   "cell_type": "code",
   "execution_count": null,
   "metadata": {
    "collapsed": false
   },
   "outputs": [],
   "source": [
    "syns = wn.synsets('intelligent')\n",
    "for s in syns:\n",
    "    print s.lemmas()"
   ]
  },
  {
   "cell_type": "code",
   "execution_count": null,
   "metadata": {
    "collapsed": false,
    "scrolled": true
   },
   "outputs": [],
   "source": [
    "kmeans, features = kmeans_clustering(docs_snowball, n=8, stpwords=stem_stops + stem_stops_add + removelist)\n",
    "# kmeans = kmeans_clustering(X,)\n",
    "top_centroids = kmeans.cluster_centers_.argsort()[:, -1:-8:-1]\n",
    "cluster_cents = []\n",
    "print '\\n'\n",
    "for i, centroid in enumerate(top_centroids):\n",
    "    wordlist = []\n",
    "\n",
    "    for j in centroid:\n",
    "        wordlist.extend(list(set(dict_snowball[features[j]])))\n",
    "    print ', '.join(wordlist)"
   ]
  },
  {
   "cell_type": "code",
   "execution_count": null,
   "metadata": {
    "collapsed": false
   },
   "outputs": [],
   "source": []
  },
  {
   "cell_type": "code",
   "execution_count": null,
   "metadata": {
    "collapsed": false,
    "scrolled": true
   },
   "outputs": [],
   "source": [
    "with open('personalities.txt') as f:\n",
    "    for line in f:\n",
    "        personality = line.strip('\\n').split(', ') # read words on each line of file\n",
    "#         personality = ['great', 'awesome']\n",
    "        cosine_similarities = calculate_cosine_sim(doc_bodies, ' '.join(personality), [])\n",
    "        top5 = np.argsort(cosine_similarities)[::-1][:5]\n",
    "   \n",
    "        # pull from original calculation\n",
    "        vectorizer = TfidfVectorizer(stop_words=stopwords.words('english'))\n",
    "        Xorig = vectorizer.fit_transform(np.append(doc_bodies, ' '.join(personality)))\n",
    "        cs = linear_kernel(Xorig, Xorig)\n",
    "        print 'Original cosine similiarty 0:', cs[-1, :-1][0]\n",
    "        print cosine_similarities[0]\n",
    "        \n",
    "        # test a new calculation\n",
    "        vectorizer = TfidfVectorizer(stop_words=stopwords.words('english'))\n",
    "        X = vectorizer.fit_transform(doc_bodies)\n",
    "        \n",
    "        c = vectorizer.transform(np.array([' '.join(personality), ]))\n",
    "        print X.shape\n",
    "        print c.shape\n",
    "        \n",
    "        csnew = X*c.T\n",
    "        data = cosine_similarity(X, c)\n",
    "\n",
    "        for num in top5:\n",
    "            print cities[num]\n",
    "\n",
    "        print '\\n'    \n",
    "        top5new = np.argsort(data[:,0])[::-1][:5]\n",
    "        for n in top5new:\n",
    "            print cities[n]"
   ]
  },
  {
   "cell_type": "code",
   "execution_count": null,
   "metadata": {
    "collapsed": false
   },
   "outputs": [],
   "source": [
    "m = Basemap(projection='stere', lon_0=5, lat_0=72.0, rsphere=6371200., llcrnrlon=-15.0,\n",
    "            urcrnrlon=74.0, llcrnrlat=32.0, urcrnrlat=55.0, resolution='l')\n",
    "\n",
    "geolocator = Nominatim()\n",
    "xpts = []\n",
    "ypts = []\n",
    "for i, city in enumerate(cities):\n",
    "    location = geolocator.geocode(city, timeout=10)\n",
    "    if location is not None:\n",
    "        xpt, ypt = m(location.longitude, location.latitude)\n",
    "        xpts.append(xpt)\n",
    "        ypts.append(ypt)"
   ]
  },
  {
   "cell_type": "code",
   "execution_count": null,
   "metadata": {
    "collapsed": false,
    "scrolled": true
   },
   "outputs": [],
   "source": [
    "m = Basemap(projection='stere', lon_0=5, lat_0=72.0, rsphere=6371200., llcrnrlon=-15.0,\n",
    "            urcrnrlon=72.0, llcrnrlat=32.0, urcrnrlat=55.0, resolution='l')\n",
    "\n",
    "plot_personality_map(m, cosine_similarities, xpts, ypts, cities)"
   ]
  },
  {
   "cell_type": "code",
   "execution_count": null,
   "metadata": {
    "collapsed": false
   },
   "outputs": [],
   "source": []
  },
  {
   "cell_type": "code",
   "execution_count": null,
   "metadata": {
    "collapsed": true
   },
   "outputs": [],
   "source": []
  }
 ],
 "metadata": {
  "kernelspec": {
   "display_name": "Python 2",
   "language": "python",
   "name": "python2"
  },
  "language_info": {
   "codemirror_mode": {
    "name": "ipython",
    "version": 2
   },
   "file_extension": ".py",
   "mimetype": "text/x-python",
   "name": "python",
   "nbconvert_exporter": "python",
   "pygments_lexer": "ipython2",
   "version": "2.7.12"
  }
 },
 "nbformat": 4,
 "nbformat_minor": 0
}
